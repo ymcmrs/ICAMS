{
 "cells": [
  {
   "cell_type": "code",
   "execution_count": 8,
   "metadata": {},
   "outputs": [
    {
     "name": "stdout",
     "output_type": "stream",
     "text": [
      "{'WIDTH': '6001', 'FILE_LENGTH': '2498', 'XMIN': '0', 'XMAX': '6001', 'YMIN': '0', 'YMAX': '2498', 'X_FIRST': '-120.0000000', 'Y_FIRST': '35.0705080', 'X_STEP': '0.000833330000000', 'Y_STEP': '-0.000833330000000', 'X_UNIT': 'degres', 'Y_UNIT': 'degres', 'Z_OFFSET': '0', 'Z_SCALE': '1', 'PROJECTION': 'LATLON', 'DATUM': 'WGS84', 'TIME_OF_DAY': '14.000000UTC'}\n"
     ]
    }
   ],
   "source": [
    "import numpy as np\n",
    "import glob\n",
    "import os\n",
    "\n",
    "#def read_tzd(fname):\n",
    "    \n",
    "    \n",
    "    \n",
    "def read_rsc(fname,delimiter=' ', standardize=None):\n",
    "    \"\"\"Read ROI_PAC style RSC file.\n",
    "    Parameters: fname : str.\n",
    "                    File path of .rsc file.\n",
    "    Returns:    rscDict : dict\n",
    "                    Dictionary of keys and values in RSC file.\n",
    "    Examples:\n",
    "        from mintpy.utils import readfile\n",
    "        atr = readfile.read_roipac_rsc('filt_101120_110220_c10.unw.rsc')\n",
    "    \"\"\"\n",
    "    # read .rsc file\n",
    "    with open(fname, 'r') as f:\n",
    "        lines = f.readlines()\n",
    "\n",
    "    # convert list of str into dict\n",
    "    rscDict = {}\n",
    "    for line in lines:\n",
    "        c = [i.strip() for i in line.strip().replace('\\t',' ').split(delimiter, 1)]\n",
    "        key = c[0]\n",
    "        value = c[1].replace('\\n', '').strip()\n",
    "        rscDict[key] = value\n",
    "\n",
    "    if standardize:\n",
    "        rscDict = standardize_metadata(rscDict)\n",
    "    return rscDict\n",
    "\n",
    "\n",
    "\n",
    "gacos_dir = '/Users/caoy0a/Downloads/20190809T135723'\n",
    "date_list = [os.path.basename(x).split('.')[0] for x in glob.glob(gacos_dir + '/*.ztd')]\n",
    "#flist = glob.glob(gacos_dir + '/*.ztd')\n",
    "#rlist = glob.glob(gacos_dir + '/*.ztd.rsc')\n",
    "k0 = 0\n",
    "file0 = gacos_dir + '/' + date_list[k0] + '.ztd'\n",
    "rsc0 = gacos_dir + '/' + date_list[k0] + '.ztd.rsc'\n",
    "\n",
    "rsc_dict = read_rsc(rsc0)\n",
    "print(rsc_dict)"
   ]
  }
 ],
 "metadata": {
  "kernelspec": {
   "display_name": "Python 3",
   "language": "python",
   "name": "python3"
  },
  "language_info": {
   "codemirror_mode": {
    "name": "ipython",
    "version": 3
   },
   "file_extension": ".py",
   "mimetype": "text/x-python",
   "name": "python",
   "nbconvert_exporter": "python",
   "pygments_lexer": "ipython3",
   "version": "3.7.3"
  }
 },
 "nbformat": 4,
 "nbformat_minor": 2
}

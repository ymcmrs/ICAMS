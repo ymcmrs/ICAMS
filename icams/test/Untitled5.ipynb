{
 "cells": [
  {
   "cell_type": "code",
   "execution_count": 19,
   "metadata": {},
   "outputs": [
    {
     "name": "stdout",
     "output_type": "stream",
     "text": [
      "2018 07 12\n",
      "2018\n",
      "07\n",
      "12\n",
      "20180712\n",
      "['20180712']\n",
      "[-200, 0, 200, 400, 600, 800, 1000, 1200, 1400, 1600, 1800, 2000, 2200, 2400, 2600, 2800, 3000, 3200, 3400, 3600, 3800, 4000, 4200, 4400, 4600, 4800, 5000, 5500, 6000, 6500, 7000, 7500, 8000, 8500, 9000, 9500, 10000, 11000, 12000, 13000, 14000, 15000, 16000, 17000, 18000, 19000, 20000, 25000, 30000, 35000, 40000, 45000]\n"
     ]
    }
   ],
   "source": [
    "import numpy as np\n",
    "from pyrite import _utils as ut\n",
    "\n",
    "def read_gamma_par(inFile, task, keyword):\n",
    "    if task == \"read\":\n",
    "        f = open(inFile, \"r\")\n",
    "        while 1:\n",
    "            line = f.readline()\n",
    "            if not line: break\n",
    "            if line.count(keyword) == 1:\n",
    "                strtemp = line.split(\":\")\n",
    "                value = strtemp[1].strip()\n",
    "                return value\n",
    "        print(\"Keyword \" + keyword + \" doesn't exist in \" + inFile)\n",
    "        f.close\n",
    "        \n",
    "slc_par = '/Users/caoy0a/Desktop/pyrite_test/20180712.slc.par'\n",
    "date = read_gamma_par(slc_par,'read', 'date')\n",
    "date0 = read_gamma_par(slc_par,'read', 'date')\n",
    "\n",
    "print(date)\n",
    "\n",
    "print(date.split(' ')[0])\n",
    "print(date.split(' ')[1])\n",
    "print(date.split(' ')[2])\n",
    "\n",
    "date = date0.split(' ')[0] + date0.split(' ')[1] + date0.split(' ')[2]\n",
    "print(date)\n",
    "\n",
    "meta = {}\n",
    "\n",
    "meta['test'] = 'test'\n",
    "\n",
    "date = [date]\n",
    "print(date)\n",
    "\n",
    "hgtlvs = [ -200, 0, 200, 400, 600, 800, 1000, 1200, 1400, 1600, 1800, 2000, 2200, 2400\n",
    "          ,2600, 2800, 3000, 3200, 3400, 3600, 3800, 4000, 4200, 4400, 4600, 4800, 5000\n",
    "          ,5500, 6000, 6500, 7000, 7500, 8000, 8500, 9000, 9500, 10000, 11000, 12000, 13000\n",
    "          ,14000, 15000, 16000, 17000, 18000, 19000, 20000, 25000, 30000, 35000, 40000, 45000]\n",
    "    \n",
    "print(hgtlvs)"
   ]
  }
 ],
 "metadata": {
  "kernelspec": {
   "display_name": "Python 3",
   "language": "python",
   "name": "python3"
  },
  "language_info": {
   "codemirror_mode": {
    "name": "ipython",
    "version": 3
   },
   "file_extension": ".py",
   "mimetype": "text/x-python",
   "name": "python",
   "nbconvert_exporter": "python",
   "pygments_lexer": "ipython3",
   "version": "3.7.3"
  }
 },
 "nbformat": 4,
 "nbformat_minor": 2
}

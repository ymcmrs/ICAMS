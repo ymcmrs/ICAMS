{
 "cells": [
  {
   "cell_type": "code",
   "execution_count": 16,
   "metadata": {},
   "outputs": [
    {
     "name": "stdout",
     "output_type": "stream",
     "text": [
      "[ 0.29991981 -0.63859672  0.70869058]\n",
      "[ 0.21133861 -0.63168821  0.74585923]\n",
      "(2554420.379647639, -831509.7465288728, 5766417.780958453)\n"
     ]
    }
   ],
   "source": [
    "import numpy as np\n",
    "\n",
    "def lla_to_ecef(lat, lon, alt):\n",
    "    import pyproj\n",
    "    ecef = pyproj.Proj(proj='geocent', ellps='WGS84', datum='WGS84')\n",
    "    lla = pyproj.Proj(proj='latlong', ellps='WGS84', datum='WGS84')\n",
    "    x, y, z = pyproj.transform(lla, ecef, lon, lat, alt, radians=False)\n",
    "    return x, y, z\n",
    "\n",
    "def get_uLOS(SatCoord,GroundLLH):\n",
    "    # GroundLLH = (lat, lon, alt)\n",
    "    lat, lon, alt = GroundLLH\n",
    "    \n",
    "    sX,sY,sZ = SatCoord\n",
    "    gX,gY,gZ = lla_to_ecef(lat, lon, alt)\n",
    "    \n",
    "    uLOS0 = ((sX - gX),(sY - gY),(sZ - gZ))\n",
    "    dLOS = np.sqrt((sX - gX)**2 + (sY - gY)**2 + (sZ - gZ)**2)\n",
    "    uLOS = uLOS0/dLOS\n",
    "    \n",
    "    return uLOS\n",
    "\n",
    "\n",
    "SatCoord = (2936773.2942,   -1564207.2757,    6234532.0456)\n",
    "SatCoord0 = (2525852.3769,   -1514203.7962,   6423593.9213)\n",
    "\n",
    "\n",
    "\n",
    "\n",
    "x0,y0,z0 = lla_to_ecef(65.168,-18.031,900)\n",
    "GroundLLH = (63.1, -21.3, 0)\n",
    "GroundLLH0 = (66.4, -23.1, 0)\n",
    "\n",
    "GroundLLH1 = (63.434, -16.292, 0)\n",
    "GroundLLH10 = (66.840, -17.8057, 0)\n",
    "\n",
    "uLOS = get_uLOS(SatCoord,GroundLLH)\n",
    "uLOS0 = get_uLOS(SatCoord0,GroundLLH0)\n",
    "\n",
    "print(uLOS)\n",
    "print(uLOS0)\n",
    "print(lla_to_ecef(65.168,-18.031,900))\n",
    "\n",
    "\n",
    "\n",
    "\n",
    "\n"
   ]
  }
 ],
 "metadata": {
  "kernelspec": {
   "display_name": "Python 3",
   "language": "python",
   "name": "python3"
  },
  "language_info": {
   "codemirror_mode": {
    "name": "ipython",
    "version": 3
   },
   "file_extension": ".py",
   "mimetype": "text/x-python",
   "name": "python",
   "nbconvert_exporter": "python",
   "pygments_lexer": "ipython3",
   "version": "3.7.3"
  }
 },
 "nbformat": 4,
 "nbformat_minor": 2
}
